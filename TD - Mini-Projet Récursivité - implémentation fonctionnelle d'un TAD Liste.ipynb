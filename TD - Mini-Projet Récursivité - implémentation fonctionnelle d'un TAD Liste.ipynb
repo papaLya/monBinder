{
 "cells": [
  {
   "cell_type": "markdown",
   "metadata": {
    "ExecuteTime": {
     "end_time": "2020-10-18T10:32:39.772504Z",
     "start_time": "2020-10-18T10:32:39.760828Z"
    },
    "slideshow": {
     "slide_type": "slide"
    }
   },
   "source": [
    "<h2 style='text-align:center' > <span style = 'color:#FF7100'>Terminale NSI: TAD Listes, implémentation fonctionnele - itérative et récursive </span></h2>\n",
    "\n",
    "---\n",
    "\n",
    "   <h1  style='text-align:center'> <span style='color:#FF4500'>  Implémentation d'un TAD Liste et récursivité\n",
    "   </span>\n",
    "   </h1>\n",
    "   \n",
    "<p style='color:#FF7100; text-align:center'><em>Cours de Terminale NSI de Benjamin Raybaud</em></p>\n",
    "\n",
    "\n",
    "<br/>\n",
    "\n",
    "---\n",
    "\n",
    "## 1- Un TAD 'Liste'\n",
    "\n",
    "**Une liste** est un type de donnée abstrait qui peut être défini récursivement et dont la structure correspond à celle d'une collection (finie) et ordonnée d'éléments. \n",
    "\n",
    "On munit ce type des opérations suivantes :\n",
    "\n",
    "- création d'une liste vide,\n",
    "- ajout d'un élément en tête / en queue / en position $i$,\n",
    "- accès à l'élément en tête / en queue / au $i$-ème élément,\n",
    "- modification d'un élément en tête / en queue / du $i$-ème élément,\n",
    "- suppression en tête / en queue / en position $i$,\n",
    "- longueur,\n",
    "- concaténation de deux listes.\n",
    "\n",
    "Une implémentation existante de ce type abstrait est le type prédéfini `list` de Python qui utilise des tableaux dynamiques (méthodes pop(indice), append(indice), l'accès aux éléments par l'indice...). \n",
    "\n",
    "Nous allons nous intéresser ici à une implémentation récursive de ce TAD sous forme de tuples (tête, queue) où tête est une élément de la liste et $queue$ est une liste.\n",
    "\n",
    "<br/>\n",
    "\n",
    "#### Observez le fonctionnement du script ci-dessous\n",
    "\n",
    "---\n"
   ]
  },
  {
   "cell_type": "code",
   "execution_count": 22,
   "metadata": {
    "ExecuteTime": {
     "end_time": "2020-10-20T10:31:16.883846Z",
     "start_time": "2020-10-20T10:31:16.844019Z"
    },
    "collapsed": true
   },
   "outputs": [
    {
     "name": "stdout",
     "output_type": "stream",
     "text": [
      "on crée une liste : maListe = None \n",
      "\n",
      "j'ajoute l'ingrédient oeuf à ma maListe = None\n",
      "la taille de la liste est 0\n",
      "on obtient maListe = ('oeuf', None)\n",
      "la taille de la liste est 1\n",
      "\n",
      "j'ajoute l'ingrédient farine à ma maListe = ('oeuf', None)\n",
      "la taille de la liste est 1\n",
      "on obtient maListe = ('farine', ('oeuf', None))\n",
      "la taille de la liste est 2\n",
      "\n",
      "j'ajoute l'ingrédient sucre à ma maListe = ('farine', ('oeuf', None))\n",
      "la taille de la liste est 2\n",
      "on obtient maListe = ('sucre', ('farine', ('oeuf', None)))\n",
      "la taille de la liste est 3\n",
      "\n",
      "j'ajoute l'ingrédient levure à ma maListe = ('sucre', ('farine', ('oeuf', None)))\n",
      "la taille de la liste est 3\n",
      "on obtient maListe = ('levure', ('sucre', ('farine', ('oeuf', None))))\n",
      "la taille de la liste est 4\n",
      "\n",
      "j'ajoute l'ingrédient banane à ma maListe = ('levure', ('sucre', ('farine', ('oeuf', None))))\n",
      "la taille de la liste est 4\n",
      "on obtient maListe = ('banane', ('levure', ('sucre', ('farine', ('oeuf', None)))))\n",
      "la taille de la liste est 5\n",
      "\n",
      "j'ajoute l'ingrédient crème à ma maListe = ('banane', ('levure', ('sucre', ('farine', ('oeuf', None)))))\n",
      "la taille de la liste est 5\n",
      "on obtient maListe = ('crème', ('banane', ('levure', ('sucre', ('farine', ('oeuf', None))))))\n",
      "la taille de la liste est 6\n",
      "\n",
      "\n",
      "on retire l'ingrédient crème de la liste d'ingrédients ('crème', ('banane', ('levure', ('sucre', ('farine', ('oeuf', None))))))\n",
      "listeIngrédients = ('crème', ('banane', ('levure', ('sucre', ('farine', ('oeuf', None))))))\n",
      "on retire l'ingrédient crème de la liste d'ingrédients ('crème', ('banane', ('levure', ('sucre', ('farine', ('oeuf', None))))))\n",
      "listeIngrédients = ('crème', ('banane', ('levure', ('sucre', ('farine', ('oeuf', None))))))\n",
      "on retire l'ingrédient crème de la liste d'ingrédients ('crème', ('banane', ('levure', ('sucre', ('farine', ('oeuf', None))))))\n",
      "listeIngrédients = ('crème', ('banane', ('levure', ('sucre', ('farine', ('oeuf', None))))))\n",
      "la tête de ma liste est crème\n",
      "l'élément en queue de ma liste est oeuf\n",
      "l'élément en queue de ma liste est oeuf\n"
     ]
    }
   ],
   "source": [
    "# constructeur\n",
    "def creerListe(): #crée une liste vide\n",
    "    return None \n",
    "\n",
    "#opérateur\n",
    "def ajoutTete(liste, element):\n",
    "    return (element, liste)\n",
    "\n",
    "# prédicat\n",
    "def listeVide(liste):\n",
    "    return liste is None\n",
    "\n",
    "# selecteurs\n",
    "def tete(liste):\n",
    "    return liste[0] if not listeVide(liste) else None\n",
    "\n",
    "def queue(liste): #retourne la queue de la liste sans modifier la liste, c'est un SELECTEUR pas un opérateur (voir l'opérateur retraitTete)\n",
    "    return liste[1] if not listeVide(liste) else None\n",
    "\n",
    "# opérateur retraitTete qui supprime l'élément de tête de la liste et retourne sa valeur\n",
    "def retraitTete(liste):\n",
    "    if listeVide(liste):\n",
    "        print(\"on ne peut pas retirer la tête d'une liste vide\")\n",
    "        return None\n",
    "    teteListe = tete(liste) # on récupère la valeur de la tête\n",
    "    liste = queue(liste) # on modifie la liste avec cette affectation\n",
    "    return teteListe  \n",
    "\n",
    "# opérateur accès à l'élément en queue : implémentation récursive\n",
    "def enQueueRec(liste):\n",
    "    '''la liste fournie en paramètre doit être non vide'''\n",
    "    if liste[1] is None: #cas de base de notre récursivité, il doit garantir l'arrêt sous peine d'appels récursifs sans fin\n",
    "        return liste[0]\n",
    "    return enQueueRec(queue(liste))\n",
    "\n",
    "\n",
    "def enQueueIter(liste):\n",
    "    '''la liste fournie en paramètre doit être non vide'''\n",
    "    listeTemporaire = liste[:]\n",
    "    while not listeVide(queue(listeTemporaire)):\n",
    "        listeTemporaire = queue(listeTemporaire)\n",
    "    return tete(listeTemporaire)\n",
    "\n",
    "# sélecteur de l'attribut taille, attribut implicite dans cette implémentation, c'est plutôt un opérateur dans cette implémentation\n",
    "def tailleRec(liste):\n",
    "    if listeVide(liste):\n",
    "        return 0\n",
    "    return 1 + tailleRec(queue(liste))\n",
    "\n",
    "def tailleIter(liste):\n",
    "    pass\n",
    "\n",
    "\n",
    "##### TESTS #########\n",
    "maListe = creerListe()\n",
    "print('on crée une liste : maListe =', maListe, '\\n')\n",
    "\n",
    "ingredients = ['oeuf', 'farine', 'sucre', 'levure', 'banane', 'crème']\n",
    "\n",
    "for ingredient in ingredients:\n",
    "    print(f\"j'ajoute l'ingrédient {ingredient} à ma maListe = {maListe}\\nla taille de la liste est {tailleRec(maListe)}\")\n",
    "    maListe = ajoutTete(maListe, ingredient) #on modifie maListe avec l'opérateur ajouteTete\n",
    "    print(f\"on obtient maListe = {maListe}\\nla taille de la liste est {tailleRec(maListe)}\\n\")\n",
    "\n",
    "    \n",
    "print()\n",
    "for _ in range(3):\n",
    "    print(f\"on retire l'ingrédient {tete(maListe)} de la liste d'ingrédients {maListe}\")\n",
    "    retraitTete(maListe)\n",
    "    print(f\"listeIngrédients = {maListe}\")\n",
    "    \n",
    "print(f\"la tête de ma liste est {tete(maListe)}\")\n",
    "print(f\"l'élément en queue de ma liste est {enQueueRec(maListe)}\")\n",
    "print(f\"l'élément en queue de ma liste est {enQueueIter(maListe)}\")\n"
   ]
  },
  {
   "cell_type": "markdown",
   "metadata": {},
   "source": [
    "---\n",
    "\n",
    "### Activité 1 : \n",
    "\n",
    "- Copiez ce code dans l'éditeur Thonny, et observez attentivement l'exécution de la fonction récursive $ enQueueRec(maListe) $ , comparez les implémentations des sélecteurs $enQueueRec$ et $enQueueIter$. \n",
    "- Observez dans Thonny, en mode débogage, l'exécution de la fonction récursive $tailleRec(liste)$.\n",
    "- Programmez (ligne 50) la fonction tailleIter(liste) en vous inspirant de la fonction $enQueueIter(liste)$.\n",
    "\n",
    "<br/>\n",
    "\n",
    "---\n",
    "\n",
    "\n",
    "## Mini-Projet : \n",
    "\n",
    "- Finir l'implémentation de ce TAD\n",
    "- une version récursive et itérative d'un même opérateur seraient un plus dans la notation\n",
    "- on peut poursuivre avec une implémentation fonction du TAD liste, ou bien tout reprendre en Programmation Orientée Objet avec l'écriture d'une classe Liste \n",
    "\n",
    "<br/>\n",
    "\n",
    "---\n",
    "#### Script python"
   ]
  },
  {
   "cell_type": "code",
   "execution_count": 23,
   "metadata": {
    "ExecuteTime": {
     "end_time": "2020-10-20T10:40:48.498867Z",
     "start_time": "2020-10-20T10:40:48.491194Z"
    }
   },
   "outputs": [],
   "source": [
    "######### Mon mini-projet TAD liste récursivité - itération   ###############\n"
   ]
  },
  {
   "cell_type": "code",
   "execution_count": null,
   "metadata": {},
   "outputs": [],
   "source": []
  }
 ],
 "metadata": {
  "celltoolbar": "Pièces jointes",
  "kernelspec": {
   "display_name": "Python 3",
   "language": "python",
   "name": "python3"
  },
  "language_info": {
   "codemirror_mode": {
    "name": "ipython",
    "version": 3
   },
   "file_extension": ".py",
   "mimetype": "text/x-python",
   "name": "python",
   "nbconvert_exporter": "python",
   "pygments_lexer": "ipython3",
   "version": "3.7.6"
  },
  "latex_envs": {
   "LaTeX_envs_menu_present": true,
   "autoclose": false,
   "autocomplete": true,
   "bibliofile": "biblio.bib",
   "cite_by": "apalike",
   "current_citInitial": 1,
   "eqLabelWithNumbers": true,
   "eqNumInitial": 1,
   "hotkeys": {
    "equation": "Ctrl-E",
    "itemize": "Ctrl-I"
   },
   "labels_anchors": false,
   "latex_user_defs": false,
   "report_style_numbering": false,
   "user_envs_cfg": false
  },
  "varInspector": {
   "cols": {
    "lenName": 16,
    "lenType": 16,
    "lenVar": 40
   },
   "kernels_config": {
    "python": {
     "delete_cmd_postfix": "",
     "delete_cmd_prefix": "del ",
     "library": "var_list.py",
     "varRefreshCmd": "print(var_dic_list())"
    },
    "r": {
     "delete_cmd_postfix": ") ",
     "delete_cmd_prefix": "rm(",
     "library": "var_list.r",
     "varRefreshCmd": "cat(var_dic_list()) "
    }
   },
   "types_to_exclude": [
    "module",
    "function",
    "builtin_function_or_method",
    "instance",
    "_Feature"
   ],
   "window_display": false
  }
 },
 "nbformat": 4,
 "nbformat_minor": 4
}
