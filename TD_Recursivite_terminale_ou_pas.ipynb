{
 "cells": [
  {
   "cell_type": "markdown",
   "metadata": {
    "ExecuteTime": {
     "end_time": "2020-10-18T10:32:39.772504Z",
     "start_time": "2020-10-18T10:32:39.760828Z"
    },
    "slideshow": {
     "slide_type": "slide"
    }
   },
   "source": [
    "<h2 style='text-align:center' > <span style = 'color:#FF7100'>Terminale NSI: Paradigme de programmation : Récursivité </span></h2>\n",
    "\n",
    "---\n",
    "\n",
    "   <h1  style='text-align:center'> <span style='color:#FF4500'>  Comparaison de fonctions récursives enveloppées et récursives terminales\n",
    "   </span>\n",
    "   </h1>\n",
    "   \n",
    "<p style='color:#FF7100; text-align:center'><em>Cours de Terminale NSI de Benjamin Raybaud</em></p>\n",
    "\n",
    "\n",
    "<br/>\n",
    "\n",
    "---\n",
    "\n",
    "## 1- Définition\n",
    "\n",
    "- **Une fonction est dite récursive** lorsqu'elle fait appel à elle même lors de son exécution\n",
    "- **Une fonction est dite récursive terminale lorsqu'aucun traitement n'est à effectuer sur la valeur de retour d'un appel récursif** \n",
    "- **Dans le cas où la fonction récursive n'est pas terminale, on dit que l'appel réxcursif est enveloppé, c'est à dire que la valeur de retour de l'appel récursif doit être traité lors du dépilement de la pile d'appels par une opération...**\n",
    "\n",
    "La comparaison de deux codes permet de mieux dissocier ces deux types de récursivité.\n",
    "\n",
    "<br/>\n",
    "\n",
    "---\n",
    "\n",
    "## 2- Une fonction somme des nombres de 1 à n : implémentation récursive terminale\n",
    "\n",
    "<br/>\n",
    "\n",
    "Considérons les deux fonctions $sommeRecTerm(limite, accumulateur)$  et  $sommeRecTerm2(debut, fin, accumulateur)$.\n",
    "\n",
    "Si on compare ces deux fonctions dites récursives terminales à celle récursive que vous avez déjà vu dans la leçon auparavant, une implémentation récursive terminale ne provoquera aucun calcul lors du dépilement de la pile d'appels récursifs. \n",
    "\n",
    "Pour rendre terminale la récursivité, un paramètre $accumulateur$ est nécessaire ici.\n",
    "\n",
    "$accumulateur$ est le résultat attendu au sommet de la pile d'appels (cas d'arrêt de la fonction récursive). Dans ce cas le dépilement est inutile, mais plus intéressant encore l'empilement était inutile, on aurait pu fermer les fonctions plutôt que de garder en mémoire leurs environnements (plusieurs dizaines d'octets par appel de fonction au moins).\n",
    "\n",
    "<br/>\n",
    "\n",
    "---\n",
    "\n",
    "#### Script python\n"
   ]
  },
  {
   "cell_type": "code",
   "execution_count": 5,
   "metadata": {
    "ExecuteTime": {
     "end_time": "2020-10-21T08:47:47.291287Z",
     "start_time": "2020-10-21T08:47:47.235448Z"
    }
   },
   "outputs": [
    {
     "name": "stdout",
     "output_type": "stream",
     "text": [
      "15\n",
      "15\n"
     ]
    }
   ],
   "source": [
    "# fonctions somme itératives\n",
    "def sommeIter(debut, fin):\n",
    "    somme=0\n",
    "    for nombre in range(debut, fin+1):\n",
    "        somme+=nombre\n",
    "    return somme\n",
    "\n",
    "def sommeIter2(debut, fin):\n",
    "    somme = 0\n",
    "    while fin>=debut:\n",
    "        somme+=debut\n",
    "        debut+=1\n",
    "    return somme\n",
    "\n",
    "# fonction somme récursive\n",
    "def sommeRec(nombre):\n",
    "    return sommeRec2(0, nombre)\n",
    "\n",
    "def sommeRec2(debut, fin):\n",
    "    if debut>fin:\n",
    "        return 0\n",
    "    return debut + sommeRec2(debut+1, fin) #l'appel récursif est enveloppé par l'opération 'ajouter la valeur debut', l'ajout de debut se fait au moment du dépilement\n",
    "\n",
    "###### Récursivité terminale #####\n",
    "def sommeRecTerm(nombre, accumulateur=0):\n",
    "    if nombre<1:\n",
    "        return accumulateur\n",
    "    return sommeRecTerm(nombre-1, accumulateur+nombre)\n",
    "    \n",
    "\n",
    "def sommeRecTerm2(debut, fin, accumulateur=0):\n",
    "    #calcule la somme des nombres : debut+...+fin\n",
    "    if debut>fin:\n",
    "        return accumulateur\n",
    "    return sommeRecTerm2(debut+1, fin, accumulateur+debut)\n",
    "'''\n",
    "en faisant tourner la fonction somme(nombre) et celles qui sont terminales ici avec le mode\n",
    "débogage de Thonny, vous comparerez ce qu'il se passe au moment de dépilement de la pile\n",
    "d'appels avec ces deux fonctions, vous constaterz que python n'optimise pas la pile d'appels\n",
    "quands les appels sont terminaux (empilement inutile de la fonction appelante quand l'appel est terminal)\n",
    "'''\n",
    "    \n",
    "print(sommeRec(5))\n",
    "print(sommeRecTerm2(0, 5))\n",
    "\n"
   ]
  },
  {
   "cell_type": "markdown",
   "metadata": {},
   "source": [
    "### Activité 1\n",
    "\n",
    "Collez la cellule de code ci-dessus dans l'éditeur Thonny, puis exécutez ce script en mode débogage. \n",
    "\n",
    "Vous serez attentif aux opérations effectuées (ou pas) lors du dépilement de la pile d'appels : \n",
    "- notez qu'avec une implémentation récursive terminale, il n'y a aucune opération à effectuer lors du dépilement. Le résultat (souvent appelé accumulateur) renvoyé par la fonction récursive lorsqu'elle rencontre un cas d'arrêt est le résultat attendu par l'appel récursif initial...\n",
    "- pour les implémentations récursives (non terminales), les appels récursifs sont enveloppés et des calculs se font au moment du dépilement de la pile d'appels.\n",
    "\n",
    "\n",
    "<br/>\n",
    "\n",
    "#### Remarques\n",
    "\n",
    "- Pour bien comprendre l'inutilité de l'empilement d'un appel dans le cas des appels récursifs terminaux, notez que l'accumulateur renvoyé lorsque la pile d'appels atteint sa taille maximale, est retourné à chacune des fonctions situées en desous dans la pile sans subir la moindre modification. L'appel initial retourne la valeur accumulateur qui était déjà correcte au sommet de la pile d'appels avant le dépilement. Donc le dépilement ne sert à rien, mais pire encore : l'empilement non plus!\n",
    "\n",
    "-  La pile d'appels ne sert à rien dans le cas d'un appel récursif terminal, par contre elle est couteuse en ressource puisque chaque appel de fonction crée un environnement de plusieurs dizaines d'octets au moins.\n",
    "\n",
    "- Python n'optimise pas la programmation récursive comme le font d'autres langages (Scheme, oCaml...), en particulier il n'optimise pas les appels récursifs terminaux. Par exemple, un langage qui optimiserait la récursivité, saurait repérer les appels récursifs terminaux et n'empilerait pas de fonctions inutiles dans la pile d'appels...\n",
    "\n",
    "- Une récursivité terminale traite les données de la même façon que dans une itération avec while. \n",
    "\n",
    "\n",
    "<br/>\n",
    "\n",
    "\n",
    " \n",
    " ## 3- Activités\n",
    " \n",
    " <br/>\n",
    " \n",
    " ### Activité 2 :\n",
    " \n",
    " - Observez le fonctionnement de la fonction $factoRec(nombre)$ avec le mode débogage de Thonny pour observer le fonctionnement de la pile d'appels à la montée et à la descente.\n",
    " \n",
    " - Programmez la fonction récursive terminale $factoRecTerm(nombre, accumulateur)$\n",
    " \n",
    " <br/>\n",
    "\n",
    "---\n",
    "\n",
    "#### Script python"
   ]
  },
  {
   "cell_type": "code",
   "execution_count": 1,
   "metadata": {
    "ExecuteTime": {
     "end_time": "2020-10-22T19:39:53.809946Z",
     "start_time": "2020-10-22T19:39:53.764210Z"
    }
   },
   "outputs": [
    {
     "name": "stdout",
     "output_type": "stream",
     "text": [
      "120\n",
      "120\n"
     ]
    }
   ],
   "source": [
    "def factoRec(nombre):\n",
    "    if nombre<2: #cas où n=1 ou bien n=0\n",
    "        return 1\n",
    "    return nombre*factoRec(nombre-1) #appel récursif enveloppé par l'opération  *nombre\n",
    "\n",
    "def factoRecTerm(nombre, facto=1):\n",
    "    if nombre<2:\n",
    "        return facto\n",
    "    return factoRecTerm(nombre-1, facto*nombre) #pas de calcul à effectuer au moment du dépilement, appel récursif terminal\n",
    "\n",
    "print(factoRec(5))\n",
    "print(factoRecTerm(5))"
   ]
  },
  {
   "cell_type": "markdown",
   "metadata": {},
   "source": [
    "### Activité 3 : \n",
    "\n",
    "Donnez une implémentation récursive et récursive terminale des fonctions $puissance(x, n) => x^n $\n",
    "\n",
    "<br/>\n",
    "\n",
    "---\n",
    "\n",
    "#### Script python"
   ]
  },
  {
   "cell_type": "code",
   "execution_count": 42,
   "metadata": {
    "ExecuteTime": {
     "end_time": "2020-10-18T15:34:35.213045Z",
     "start_time": "2020-10-18T15:34:35.210042Z"
    }
   },
   "outputs": [],
   "source": [
    "def puissanceRec(x, n):\n",
    "    if n==0:\n",
    "        return 1\n",
    "    return x*puissanceRec(x, n-1) #il faudra multiplier par x la valeur retournée au moment du dépilement, l'appel est enveloppé par l'opération *x\n",
    "\n",
    "def puissanceRecTerm(x, n, puissance=1):\n",
    "    if n==0:\n",
    "        return puissance\n",
    "    return puissanceRecTerm(x, n-1, puissance*x) #aucune action n'est effectuée lors du dépilement, cet appel récursif est terminal\n",
    "    \n",
    "\n"
   ]
  },
  {
   "cell_type": "markdown",
   "metadata": {},
   "source": [
    "### Activité 4 :\n",
    "\n",
    "Voici un autre cas de figure où la récursivité est bien adaptée.\n",
    "\n",
    "- Etudiez le code de la fonction $sommeChiffresRec$, vous vous aiderez du mode débogage de Thonny par exemple en observant l'appel $sommeChiffresRec(492)$ .\n",
    "- Programmez une version récursive terminale de cette fonction.\n",
    "\n",
    "<br/>\n",
    "\n",
    "---\n",
    "\n",
    "#### Script python"
   ]
  },
  {
   "cell_type": "code",
   "execution_count": null,
   "metadata": {},
   "outputs": [],
   "source": [
    "def sommeChiffresRec(nombre) :\n",
    "    if nombre<10 :\n",
    "        return nombre\n",
    "    return nombre%10 + sommeChiffresRec(nombre//10)\n",
    "\n",
    "def sommeChiffresRecTerm(nombre, accu=0):\n",
    "    if nombre<10 : \n",
    "        return nombre+accu\n",
    "    return sommeChiffresRec(nombre//10, accu + nombre%10)\n",
    "\n",
    "print(sommeChiffresRec(1932))"
   ]
  },
  {
   "cell_type": "markdown",
   "metadata": {},
   "source": [
    "### Activité 5 : \n",
    "\n",
    "Un exemple plus subtil de récursivité terminal (ou pas) est donné ici. \n",
    "\n",
    "Il repose sur un algorithme récursif optimisant le calcul de la puissance $n^{\\text{ème}}$  d'une nombre.\n",
    "\n",
    "```\n",
    "puissance(x, n) --> 1 , si n=0\n",
    "puissance(x, n) --> puissance(x, n//2) **2 , si n est pair\n",
    "puissance(x, n) --> x * puissance(x, n//2)**2 , si n est impair\n",
    "```\n",
    "- Étudiez les deux implémentations proposées ci-dessous.\n",
    "- Écrivez des test de ces fonctions dans l'éditeur Thonny, et exécutez vos tests avec le mode pas à pas...soyez attentif à ce qu'il se passe au moment du dépilement de la pile d'appels.\n",
    "- Ecrivez en pseudo code l'algorithme de la fonction $puissanceLogTerm$, quelle est la différence avec la fonction $puissanceRec$ ?\n",
    "- Expliquez pourquoi la fonction $puissanceRecHorrible$ porte ce nom\n",
    "- Donnez sans les justifier les complexités en temps de ces fonctions\n",
    "\n",
    "<br/>\n",
    "\n",
    "---\n",
    "\n",
    "#### Script python"
   ]
  },
  {
   "cell_type": "code",
   "execution_count": null,
   "metadata": {},
   "outputs": [],
   "source": [
    "\n",
    "def puissanceLog(x, n):\n",
    "    if n==0:\n",
    "        return 1\n",
    "    if n%2==0: \n",
    "        return puissanceLog(x, n//2)**2 # appel récursif envloppé par l'opération **2, on fait le calcul des carrés au moment du dépilement\n",
    "    return x*puissanceLog(x, (n-1)//2)**2 # appel récursif enveloppé par deux opếrations **2 et *x\n",
    "\n",
    "def puissanceLogTerm(x, n):\n",
    "    if n==0:\n",
    "        return 1\n",
    "    if n%2==0: \n",
    "        return puissanceLogTerm(x**2, n//2) #appel récursif terminal, aucun calcul lors du dépilement, la pile d'appels ne sert à rien ici\n",
    "    return x*puissanceLogTerm(x**2, (n-1)//2) # appel enveloppé par l'opération *x, l'enveloppe de l'appel est plus délicate à éliminer\n",
    "\n",
    "def puissanceRecHorrible(x, n): # attention, on a ici une comlexité catastrophique, évitez cette erreur!\n",
    "    if n==0:\n",
    "        return 1\n",
    "    if n%2==0: \n",
    "        return puissanceLog(x, n//2) * puissanceHorrible(x, n//2) # erreur tragique ici ....\n",
    "    return x*puissanceLog(x, (n-1)//2)* puissanceHorrible(x, n//2) # ... et là !!!\n",
    "\n"
   ]
  },
  {
   "cell_type": "markdown",
   "metadata": {},
   "source": [
    "### Activité 6 : \n",
    "\n",
    "Programmez la fonction $listeFacteursRecTerm(nombre)$ en étudiant au préalable les fonctions $facteurMin$ et $listeFacteursRec$"
   ]
  },
  {
   "cell_type": "code",
   "execution_count": 8,
   "metadata": {
    "ExecuteTime": {
     "end_time": "2020-10-28T19:10:07.049151Z",
     "start_time": "2020-10-28T19:10:07.014070Z"
    }
   },
   "outputs": [
    {
     "name": "stdout",
     "output_type": "stream",
     "text": [
      "[2, 2, 2, 2, 3, 5, 5, 5]\n",
      "[2, 2, 2, 2, 3, 5, 5, 5]\n"
     ]
    },
    {
     "data": {
      "text/plain": [
       "6000"
      ]
     },
     "execution_count": 8,
     "metadata": {},
     "output_type": "execute_result"
    }
   ],
   "source": [
    "from math import sqrt\n",
    "\n",
    "def facteurMin(nombre):\n",
    "    #retourne le plus petit diviseur >1 du nombre donné en paramètre\n",
    "    for testDiv in range(2, int(sqrt(nombre))+1):\n",
    "        if nombre % testDiv==0 :\n",
    "            return testDiv\n",
    "    return nombre #dans ce cas nombre est premier\n",
    "\n",
    "\n",
    "def listeFacteursRec(nombre) :\n",
    "    # retourne la liste des diviseurs >1 du nombre donné en paramètre (nombre>1)\n",
    "    if nombre==1 :\n",
    "        return []\n",
    "    diviseur = facteurMin(nombre)\n",
    "    return [diviseur] + listeFacteursRec(nombre//diviseur)\n",
    "\n",
    "def listeFacteursRecTerm(nombre, listeDiv=[]):\n",
    "    # retourne la liste des diviseurs >1 du nombre donné en paramètre (nombre>1)\n",
    "    if nombre==1 : \n",
    "        return listeDiv\n",
    "    diviseur = facteurMin(nombre)\n",
    "    listeDiv.append(diviseur)\n",
    "    return listeFacteursRecTerm(nombre//diviseur, listeDiv )\n",
    "    \n",
    "print(listeFacteursRec(6000))\n",
    "print(listeFacteursRecTerm(6000))\n"
   ]
  },
  {
   "cell_type": "markdown",
   "metadata": {},
   "source": [
    "### Activité 7 : la suite de Fibonacci\n",
    "\n",
    "Grand classique de l'étude des suites en mathématiques, cette suite aurait été formalisée la première fois pour étudier une population de lapin. Il s'agit d'une suite récurrente double définie par :\n",
    "- $u_{0}=1$\n",
    "- $u_{1}=1$\n",
    "- pour tout entier naturel $n>=2$  :  $u_{n}=u_{n-1}+u_{n-2}$\n",
    "\n",
    "Complétez les fonctions `fiboIter` et `fiboRec`.\n",
    "Observez le fonctionnement de la fonction `fiboRecTerm`, puis comparez les temps d'exécution de ces différentes focntions. Donnez votre explication de la lenteur de la fonction `fiboRec` par rapport aux autres. \n"
   ]
  },
  {
   "cell_type": "code",
   "execution_count": 6,
   "metadata": {
    "ExecuteTime": {
     "end_time": "2020-10-22T14:05:44.064421Z",
     "start_time": "2020-10-22T14:04:46.323843Z"
    }
   },
   "outputs": [
    {
     "name": "stdout",
     "output_type": "stream",
     "text": [
      "fiboRecTerm(0) = 0, exécuté en 2.1457672119140625e-06\n",
      "fiboRecTerm(1) = 1, exécuté en 2.384185791015625e-06\n",
      "fiboRecTerm(2) = 1, exécuté en 4.76837158203125e-06\n",
      "fiboRecTerm(3) = 2, exécuté en 4.291534423828125e-06\n",
      "fiboRecTerm(4) = 3, exécuté en 4.5299530029296875e-06\n",
      "fiboRecTerm(5) = 5, exécuté en 4.0531158447265625e-06\n",
      "fiboRecTerm(6) = 8, exécuté en 4.76837158203125e-06\n",
      "fiboRecTerm(7) = 13, exécuté en 5.0067901611328125e-06\n",
      "fiboRecTerm(8) = 21, exécuté en 5.0067901611328125e-06\n",
      "fiboRecTerm(9) = 34, exécuté en 5.9604644775390625e-06\n",
      "fiboRecTerm(10) = 55, exécuté en 6.198883056640625e-06\n",
      "fiboRecTerm(11) = 89, exécuté en 6.198883056640625e-06\n",
      "fiboRecTerm(12) = 144, exécuté en 6.198883056640625e-06\n",
      "fiboRecTerm(13) = 233, exécuté en 6.67572021484375e-06\n",
      "fiboRecTerm(14) = 377, exécuté en 7.152557373046875e-06\n",
      "fiboRecTerm(15) = 610, exécuté en 7.62939453125e-06\n",
      "fiboRecTerm(16) = 987, exécuté en 8.58306884765625e-06\n",
      "fiboRecTerm(17) = 1597, exécuté en 8.344650268554688e-06\n",
      "fiboRecTerm(18) = 2584, exécuté en 9.059906005859375e-06\n",
      "fiboRecTerm(19) = 4181, exécuté en 8.821487426757812e-06\n",
      "fiboRecTerm(20) = 6765, exécuté en 1.049041748046875e-05\n",
      "fiboRecTerm(21) = 10946, exécuté en 1.0728836059570312e-05\n",
      "fiboRecTerm(22) = 17711, exécuté en 1.811981201171875e-05\n",
      "fiboRecTerm(23) = 28657, exécuté en 2.1457672119140625e-05\n",
      "fiboRecTerm(24) = 46368, exécuté en 1.7642974853515625e-05\n",
      "fiboRecTerm(25) = 75025, exécuté en 1.9788742065429688e-05\n",
      "fiboRecTerm(26) = 121393, exécuté en 2.5033950805664062e-05\n",
      "fiboRecTerm(27) = 196418, exécuté en 9.5367431640625e-06\n",
      "fiboRecTerm(28) = 317811, exécuté en 8.58306884765625e-06\n",
      "fiboRecTerm(29) = 514229, exécuté en 8.344650268554688e-06\n",
      "fiboRecTerm(30) = 832040, exécuté en 8.58306884765625e-06\n",
      "fiboRecTerm(31) = 1346269, exécuté en 8.821487426757812e-06\n",
      "fiboRecTerm(32) = 2178309, exécuté en 8.821487426757812e-06\n",
      "fiboRecTerm(33) = 3524578, exécuté en 9.298324584960938e-06\n",
      "fiboRecTerm(34) = 5702887, exécuté en 9.5367431640625e-06\n",
      "fiboRecTerm(35) = 9227465, exécuté en 9.775161743164062e-06\n",
      "fiboRecTerm(36) = 14930352, exécuté en 1.0013580322265625e-05\n",
      "fiboRecTerm(37) = 24157817, exécuté en 1.0251998901367188e-05\n",
      "fiboRecTerm(38) = 39088169, exécuté en 1.0251998901367188e-05\n",
      "fiboRecTerm(39) = 63245986, exécuté en 1.049041748046875e-05\n",
      "fiboRecTerm(40) = 102334155, exécuté en 1.0728836059570312e-05\n",
      "fiboRecTerm(41) = 165580141, exécuté en 1.0967254638671875e-05\n",
      "fiboRecTerm(42) = 267914296, exécuté en 1.1205673217773438e-05\n",
      "fiboRecTerm(43) = 433494437, exécuté en 1.1682510375976562e-05\n",
      "fiboRecTerm(44) = 701408733, exécuté en 1.1920928955078125e-05\n",
      "fiboRecTerm(45) = 1134903170, exécuté en 1.1920928955078125e-05\n",
      "fiboRecTerm(46) = 1836311903, exécuté en 1.2636184692382812e-05\n",
      "fiboRecTerm(47) = 2971215073, exécuté en 1.2874603271484375e-05\n",
      "fiboRecTerm(48) = 4807526976, exécuté en 1.3113021850585938e-05\n",
      "fiboRecTerm(49) = 7778742049, exécuté en 1.6450881958007812e-05\n",
      "fiboRecTerm(50) = 12586269025, exécuté en 1.7642974853515625e-05\n",
      "\n",
      "fiboIter(0) = 0, exécuté en 1.430511474609375e-06\n",
      "fiboIter(1) = 1, exécuté en 9.5367431640625e-07\n",
      "fiboIter(2) = 1, exécuté en 2.6226043701171875e-06\n",
      "fiboIter(3) = 2, exécuté en 2.1457672119140625e-06\n",
      "fiboIter(4) = 3, exécuté en 1.6689300537109375e-06\n",
      "fiboIter(5) = 5, exécuté en 1.9073486328125e-06\n",
      "fiboIter(6) = 8, exécuté en 2.1457672119140625e-06\n",
      "fiboIter(7) = 13, exécuté en 1.6689300537109375e-06\n",
      "fiboIter(8) = 21, exécuté en 1.9073486328125e-06\n",
      "fiboIter(9) = 34, exécuté en 1.6689300537109375e-06\n",
      "fiboIter(10) = 55, exécuté en 1.6689300537109375e-06\n",
      "fiboIter(11) = 89, exécuté en 2.1457672119140625e-06\n",
      "fiboIter(12) = 144, exécuté en 2.384185791015625e-06\n",
      "fiboIter(13) = 233, exécuté en 2.1457672119140625e-06\n",
      "fiboIter(14) = 377, exécuté en 2.384185791015625e-06\n",
      "fiboIter(15) = 610, exécuté en 2.6226043701171875e-06\n",
      "fiboIter(16) = 987, exécuté en 2.6226043701171875e-06\n",
      "fiboIter(17) = 1597, exécuté en 2.6226043701171875e-06\n",
      "fiboIter(18) = 2584, exécuté en 2.6226043701171875e-06\n",
      "fiboIter(19) = 4181, exécuté en 2.6226043701171875e-06\n",
      "fiboIter(20) = 6765, exécuté en 3.0994415283203125e-06\n",
      "fiboIter(21) = 10946, exécuté en 2.6226043701171875e-06\n",
      "fiboIter(22) = 17711, exécuté en 2.86102294921875e-06\n",
      "fiboIter(23) = 28657, exécuté en 3.0994415283203125e-06\n",
      "fiboIter(24) = 46368, exécuté en 5.7220458984375e-06\n",
      "fiboIter(25) = 75025, exécuté en 4.76837158203125e-06\n",
      "fiboIter(26) = 121393, exécuté en 1.33514404296875e-05\n",
      "fiboIter(27) = 196418, exécuté en 1.049041748046875e-05\n",
      "fiboIter(28) = 317811, exécuté en 1.0967254638671875e-05\n",
      "fiboIter(29) = 514229, exécuté en 1.049041748046875e-05\n",
      "fiboIter(30) = 832040, exécuté en 8.821487426757812e-06\n",
      "fiboIter(31) = 1346269, exécuté en 4.5299530029296875e-06\n",
      "fiboIter(32) = 2178309, exécuté en 3.814697265625e-06\n",
      "fiboIter(33) = 3524578, exécuté en 3.337860107421875e-06\n",
      "fiboIter(34) = 5702887, exécuté en 3.337860107421875e-06\n",
      "fiboIter(35) = 9227465, exécuté en 3.337860107421875e-06\n",
      "fiboIter(36) = 14930352, exécuté en 3.5762786865234375e-06\n",
      "fiboIter(37) = 24157817, exécuté en 3.337860107421875e-06\n",
      "fiboIter(38) = 39088169, exécuté en 3.5762786865234375e-06\n",
      "fiboIter(39) = 63245986, exécuté en 3.814697265625e-06\n",
      "fiboIter(40) = 102334155, exécuté en 3.5762786865234375e-06\n",
      "fiboIter(41) = 165580141, exécuté en 4.0531158447265625e-06\n",
      "fiboIter(42) = 267914296, exécuté en 3.814697265625e-06\n",
      "fiboIter(43) = 433494437, exécuté en 4.0531158447265625e-06\n",
      "fiboIter(44) = 701408733, exécuté en 4.0531158447265625e-06\n",
      "fiboIter(45) = 1134903170, exécuté en 4.291534423828125e-06\n",
      "fiboIter(46) = 1836311903, exécuté en 4.76837158203125e-06\n",
      "fiboIter(47) = 2971215073, exécuté en 4.291534423828125e-06\n",
      "fiboIter(48) = 4807526976, exécuté en 4.5299530029296875e-06\n",
      "fiboIter(49) = 7778742049, exécuté en 4.291534423828125e-06\n",
      "fiboIter(50) = 12586269025, exécuté en 4.5299530029296875e-06\n",
      "\n",
      "fiboRec(0) = 0, exécuté en 1.1920928955078125e-06s\n",
      "fiboRec(1) = 1, exécuté en 7.152557373046875e-07s\n",
      "fiboRec(2) = 1, exécuté en 1.9073486328125e-06s\n",
      "fiboRec(3) = 2, exécuté en 1.9073486328125e-06s\n",
      "fiboRec(4) = 3, exécuté en 2.1457672119140625e-06s\n",
      "fiboRec(5) = 5, exécuté en 3.0994415283203125e-06s\n",
      "fiboRec(6) = 8, exécuté en 4.5299530029296875e-06s\n",
      "fiboRec(7) = 13, exécuté en 6.67572021484375e-06s\n",
      "fiboRec(8) = 21, exécuté en 1.049041748046875e-05s\n",
      "fiboRec(9) = 34, exécuté en 1.6450881958007812e-05s\n",
      "fiboRec(10) = 55, exécuté en 2.574920654296875e-05s\n",
      "fiboRec(11) = 89, exécuté en 4.172325134277344e-05s\n",
      "fiboRec(12) = 144, exécuté en 7.271766662597656e-05s\n",
      "fiboRec(13) = 233, exécuté en 0.0001430511474609375s\n",
      "fiboRec(14) = 377, exécuté en 0.00019121170043945312s\n",
      "fiboRec(15) = 610, exécuté en 0.0002913475036621094s\n",
      "fiboRec(16) = 987, exécuté en 0.00047087669372558594s\n",
      "fiboRec(17) = 1597, exécuté en 0.0007715225219726562s\n",
      "fiboRec(18) = 2584, exécuté en 0.0012085437774658203s\n",
      "fiboRec(19) = 4181, exécuté en 0.0019292831420898438s\n",
      "fiboRec(20) = 6765, exécuté en 0.003122091293334961s\n",
      "fiboRec(21) = 10946, exécuté en 0.006209611892700195s\n",
      "fiboRec(22) = 17711, exécuté en 0.0084228515625s\n",
      "fiboRec(23) = 28657, exécuté en 0.013399362564086914s\n",
      "fiboRec(24) = 46368, exécuté en 0.01760554313659668s\n",
      "fiboRec(25) = 75025, exécuté en 0.04340648651123047s\n",
      "fiboRec(26) = 121393, exécuté en 0.04809880256652832s\n",
      "fiboRec(27) = 196418, exécuté en 0.07285833358764648s\n",
      "fiboRec(28) = 317811, exécuté en 0.13620519638061523s\n",
      "fiboRec(29) = 514229, exécuté en 0.18468308448791504s\n",
      "fiboRec(30) = 832040, exécuté en 0.2796473503112793s\n",
      "fiboRec(31) = 1346269, exécuté en 0.4627373218536377s\n",
      "fiboRec(32) = 2178309, exécuté en 0.7485191822052002s\n",
      "fiboRec(33) = 3524578, exécuté en 1.206963300704956s\n",
      "fiboRec(34) = 5702887, exécuté en 1.9621248245239258s\n",
      "fiboRec(35) = 9227465, exécuté en 3.0793051719665527s\n",
      "fiboRec(36) = 14930352, exécuté en 5.321733474731445s\n",
      "fiboRec(37) = 24157817, exécuté en 8.24032711982727s\n",
      "fiboRec(38) = 39088169, exécuté en 13.579654932022095s\n",
      "fiboRec(39) = 63245986, exécuté en 22.28194761276245s\n"
     ]
    }
   ],
   "source": [
    "def fiboRec(nombre) :\n",
    "    if nombre<2 : return nombre\n",
    "    return fiboRec(nombre-1) + fiboRec(nombre-2)\n",
    "# implémentation minable : dessiner l'arbre des appels récursifs, complexité en O(2**n)\n",
    "# une implémentation efficace de la fonction fiboRec sera étudiée lors du cours sur la programmation dynamique\n",
    "\n",
    "def fiboIter(nombre):\n",
    "    if nombre<2: return nombre\n",
    "    a, b = 0, 1\n",
    "    for _ in range(nombre-1):\n",
    "        a, b = b, a+b\n",
    "    return b\n",
    "\n",
    "def moteurFiboRecTerm(n, a=0, b=1): #complexité en O(n), algorithme performant, fonctionne comme une itération auquel on ajoute une pile d'appels inutile\n",
    "    if n<0: return b\n",
    "    return moteurFiboRecTerm(n-1, b, a+b) \n",
    "\n",
    "def fiboRecTerm(n):\n",
    "    if n<2: return n\n",
    "    return moteurFiboRecTerm(n-2) # le moteur permet d'éliminer les tests  n==0 et n==1 des appels recursifs\n",
    "\n",
    "from time import time\n",
    "\n",
    "for nombre in range(51): # performant, O(nombre) + pile d'appels\n",
    "    start = time()\n",
    "    print('fiboRecTerm({}) = {}, exécuté en {}'.format(nombre, fiboRecTerm(nombre), time()-start))\n",
    "print()\n",
    "\n",
    "for nombre in range(51): # très performant, 0(nombre)\n",
    "    start = time()\n",
    "    print('fiboIter({}) = {}, exécuté en {}'.format(nombre, fiboIter(nombre), time()-start))\n",
    "print()\n",
    "\n",
    "for nombre in range(40): # très très long à l'exécution, 0(2**nombre)\n",
    "    start = time()\n",
    "    print('fiboRec({}) = {}, exécuté en {}s'.format(nombre, fiboRec(nombre), time()-start, 6))\n"
   ]
  },
  {
   "cell_type": "markdown",
   "metadata": {},
   "source": [
    "### Mes Réponses\n",
    "\n",
    "```\n",
    "mes explications\n",
    "```"
   ]
  },
  {
   "cell_type": "code",
   "execution_count": null,
   "metadata": {},
   "outputs": [],
   "source": []
  }
 ],
 "metadata": {
  "celltoolbar": "Aucun(e)",
  "kernelspec": {
   "display_name": "Python 3",
   "language": "python",
   "name": "python3"
  },
  "language_info": {
   "codemirror_mode": {
    "name": "ipython",
    "version": 3
   },
   "file_extension": ".py",
   "mimetype": "text/x-python",
   "name": "python",
   "nbconvert_exporter": "python",
   "pygments_lexer": "ipython3",
   "version": "3.7.6"
  },
  "latex_envs": {
   "LaTeX_envs_menu_present": true,
   "autoclose": false,
   "autocomplete": true,
   "bibliofile": "biblio.bib",
   "cite_by": "apalike",
   "current_citInitial": 1,
   "eqLabelWithNumbers": true,
   "eqNumInitial": 1,
   "hotkeys": {
    "equation": "Ctrl-E",
    "itemize": "Ctrl-I"
   },
   "labels_anchors": false,
   "latex_user_defs": false,
   "report_style_numbering": false,
   "user_envs_cfg": false
  },
  "varInspector": {
   "cols": {
    "lenName": 16,
    "lenType": 16,
    "lenVar": 40
   },
   "kernels_config": {
    "python": {
     "delete_cmd_postfix": "",
     "delete_cmd_prefix": "del ",
     "library": "var_list.py",
     "varRefreshCmd": "print(var_dic_list())"
    },
    "r": {
     "delete_cmd_postfix": ") ",
     "delete_cmd_prefix": "rm(",
     "library": "var_list.r",
     "varRefreshCmd": "cat(var_dic_list()) "
    }
   },
   "types_to_exclude": [
    "module",
    "function",
    "builtin_function_or_method",
    "instance",
    "_Feature"
   ],
   "window_display": false
  }
 },
 "nbformat": 4,
 "nbformat_minor": 4
}
